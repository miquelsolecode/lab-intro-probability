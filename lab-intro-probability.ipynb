{
 "cells": [
  {
   "cell_type": "markdown",
   "metadata": {},
   "source": [
    "# Lab | Intro to Probability"
   ]
  },
  {
   "cell_type": "code",
   "execution_count": 30,
   "metadata": {},
   "outputs": [],
   "source": [
    "import scipy.stats as stats"
   ]
  },
  {
   "cell_type": "markdown",
   "metadata": {},
   "source": [
    "**Objective**\n",
    "\n",
    "Welcome to this Intro to Probability lab, where we explore decision-making scenarios through the lens of probability and strategic analysis. In the business world, making informed decisions is crucial, especially when faced with uncertainties. This lab focuses on scenarios where probabilistic outcomes play a significant role in shaping strategies and outcomes. Students will engage in exercises that require assessing and choosing optimal paths based on data-driven insights. The goal is to enhance your skills by applying probability concepts to solve real-world problems."
   ]
  },
  {
   "cell_type": "markdown",
   "metadata": {},
   "source": [
    "**Challenge 1**"
   ]
  },
  {
   "cell_type": "markdown",
   "metadata": {},
   "source": [
    "#### Ironhack Airlines \n",
    "\n",
    "Often Airlines sell more tickets than they have seats available, this is called overbooking. Consider the following:\n",
    "- A plane has 450 seats. \n",
    "- Based on historical data we conclude that each individual passenger has a 3% chance of missing it's flight. \n",
    "\n",
    "If the Ironhack Airlines routinely sells 460 tickets, what is the chance that they have a seats for all passenger?"
   ]
  },
  {
   "cell_type": "code",
   "execution_count": 9,
   "metadata": {},
   "outputs": [],
   "source": [
    "attendingprob= 0.97"
   ]
  },
  {
   "cell_type": "code",
   "execution_count": 12,
   "metadata": {},
   "outputs": [
    {
     "data": {
      "text/plain": [
       "0.884"
      ]
     },
     "execution_count": 12,
     "metadata": {},
     "output_type": "execute_result"
    }
   ],
   "source": [
    "prob = stats.binom.cdf(450, 460, attendingprob).round(3)\n",
    "\n",
    "prob\n",
    "\n",
    "#The chance of all passengers having a seat is 0.884"
   ]
  },
  {
   "cell_type": "markdown",
   "metadata": {},
   "source": [
    "**Challenge 2**"
   ]
  },
  {
   "cell_type": "markdown",
   "metadata": {},
   "source": [
    "#### Ironhack Call Center "
   ]
  },
  {
   "cell_type": "markdown",
   "metadata": {},
   "source": [
    "Suppose a customer service representative at a call center is handling customer complaints. Consider the following:\n",
    "- The probability of successfully resolving a customer complaint on the first attempt is 0.3. \n",
    "\n",
    "\n",
    "What is the probability that the representative needs to make at least three attempts before successfully resolving a customer complaint?"
   ]
  },
  {
   "cell_type": "code",
   "execution_count": 16,
   "metadata": {},
   "outputs": [
    {
     "name": "stdout",
     "output_type": "stream",
     "text": [
      "the probability that it takes at least 3 attempts is 0.49\n"
     ]
    }
   ],
   "source": [
    "p= 0.3\n",
    "\n",
    "geometricdistr= stats.geom(p)\n",
    "\n",
    "prob_at_least_3= 1 - geometricdistr.cdf(2) #We calculate the cumulative distribution function of failing the first 2 attempts\n",
    "\n",
    "print(f'the probability that it takes at least 3 attempts is {prob_at_least_3}')"
   ]
  },
  {
   "cell_type": "markdown",
   "metadata": {},
   "source": [
    "**Challenge 3**"
   ]
  },
  {
   "cell_type": "markdown",
   "metadata": {},
   "source": [
    "#### Ironhack Website"
   ]
  },
  {
   "cell_type": "markdown",
   "metadata": {},
   "source": [
    "Consider a scenario related to Ironhack website traffic. Where:\n",
    "- our website takes on average 500 visits per hour.\n",
    "- the website's server is designed to handle up to 550 vists per hour.\n",
    "\n",
    "What is the probability of the website server being overwhelmed?"
   ]
  },
  {
   "cell_type": "code",
   "execution_count": 23,
   "metadata": {},
   "outputs": [
    {
     "name": "stdout",
     "output_type": "stream",
     "text": [
      "the probability for the website of being overwhelmed is 0.012898\n"
     ]
    }
   ],
   "source": [
    "lamba_rate= 500 \n",
    "\n",
    "poissondist= stats.poisson(mu= lamba_rate)\n",
    "\n",
    "prob_overwhelmed= 1- poissondist.cdf(550) #We calculate the cumulative distribution function up to 550 users, and we get the probability of up the\n",
    "# 550 writting the -1 before it\n",
    "\n",
    "\n",
    "print('the probability for the website of being overwhelmed is', prob_overwhelmed.round(6))\n"
   ]
  },
  {
   "cell_type": "markdown",
   "metadata": {},
   "source": [
    "What is the probability of being overwhelmed at some point during a day? (consider 24hours)"
   ]
  },
  {
   "cell_type": "code",
   "execution_count": 26,
   "metadata": {},
   "outputs": [
    {
     "name": "stdout",
     "output_type": "stream",
     "text": [
      "The probability of being overwhelmed in the next 24 hours is 0.0\n"
     ]
    }
   ],
   "source": [
    "lamba_rate24 = 12000  #500*24\n",
    "\n",
    "maxvisits24= 13200   #550*24\n",
    "\n",
    "poissondist24= stats.poisson(mu= lamba_rate24)\n",
    "\n",
    "prob_overwhelmed24= 1- poissondist24.cdf(maxvisits24)\n",
    "\n",
    "print('The probability of being overwhelmed in the next 24 hours is', prob_overwhelmed24)\n",
    "\n",
    "#The probability must be so small that, using this aproach, the probability appears as 0.0 unable to compute that small of a number"
   ]
  },
  {
   "cell_type": "markdown",
   "metadata": {},
   "source": [
    "**Challenge 4**"
   ]
  },
  {
   "cell_type": "markdown",
   "metadata": {},
   "source": [
    "#### Ironhack Helpdesk"
   ]
  },
  {
   "cell_type": "markdown",
   "metadata": {},
   "source": [
    "Consider a scenario related to the time between arrivals of customers at a service desk.\n",
    "\n",
    "On average, a customers arrives every 10minutes.\n",
    "\n",
    "What is the probability that the next customer will arrive within the next 5 minutes?"
   ]
  },
  {
   "cell_type": "code",
   "execution_count": 48,
   "metadata": {},
   "outputs": [
    {
     "name": "stdout",
     "output_type": "stream",
     "text": [
      "The probability of a customer arriving in the next 5 minutes is  39.347 %\n"
     ]
    }
   ],
   "source": [
    "avg_time_arrival= 10\n",
    "\n",
    "inverselambda_rate= 1 / avg_time_arrival\n",
    "\n",
    "time_interval= 5\n",
    "\n",
    "prob_within_5= stats.expon.cdf(time_interval, scale=1/inverselambda_rate).round(5)*100 #We get prob of a customer ARRIVING when this \n",
    "# time period is done\n",
    "\n",
    "print(f'The probability of a customer arriving in the next 5 minutes is  {prob_within_5} %')"
   ]
  },
  {
   "cell_type": "markdown",
   "metadata": {},
   "source": [
    "If there is no customer for 15minutes, employees can that a 5minutes break.\n",
    "\n",
    "What is the probability an employee taking a break?"
   ]
  },
  {
   "cell_type": "code",
   "execution_count": 67,
   "metadata": {},
   "outputs": [
    {
     "name": "stdout",
     "output_type": "stream",
     "text": [
      "The probability that the employees get to have a break is 22.313 %\n"
     ]
    }
   ],
   "source": [
    "time_interval_break= 15\n",
    "\n",
    "prob_within15= 1 - stats.expon.cdf(time_interval_break, scale=1/inverselambda_rate)\n",
    "prob_within15= prob_within15.round(5)*100\n",
    "\n",
    "print(f'The probability that the employees get to have a break is {prob_within15} %')"
   ]
  },
  {
   "cell_type": "markdown",
   "metadata": {},
   "source": [
    "**Challenge 5**"
   ]
  },
  {
   "cell_type": "markdown",
   "metadata": {},
   "source": [
    "The weights of a certain species of birds follow a normal distribution with a mean weight of 150 grams and a standard deviation of 10 grams. \n",
    "\n",
    "- If we randomly select a bird, what is the probability that its weight is between 140 and 160 grams?"
   ]
  },
  {
   "cell_type": "code",
   "execution_count": 72,
   "metadata": {},
   "outputs": [
    {
     "name": "stdout",
     "output_type": "stream",
     "text": [
      "The probability that a birds weight is between 140 and 160 is  68.27 %\n"
     ]
    }
   ],
   "source": [
    "mean_weight= 150\n",
    "stdev= 10\n",
    "\n",
    "#We the define the interval for the probability we're looking for\n",
    "lower_limit= 140\n",
    "upper_limit= 160\n",
    "\n",
    "cdf_lower= stats.norm.cdf(lower_limit, loc=mean_weight, scale= stdev) \n",
    "cdf_upper= stats.norm.cdf(upper_limit, loc=mean_weight, scale= stdev)\n",
    "#In cases of normal distribution, loc = localization (the mean), and the scale is the std\n",
    "\n",
    "prob_between= cdf_upper - cdf_lower\n",
    "\n",
    "print('The probability that a birds weight is between 140 and 160 is ', prob_between.round(4)*100, '%')\n",
    "\n"
   ]
  },
  {
   "cell_type": "markdown",
   "metadata": {},
   "source": [
    "**Challenge 6**"
   ]
  },
  {
   "cell_type": "markdown",
   "metadata": {},
   "source": [
    "If the lifetime (in hours) of a certain electronic component follows an exponential distribution with a mean lifetime of 50 hours, what is the probability that the component fails within the first 30 hours?"
   ]
  },
  {
   "cell_type": "code",
   "execution_count": 78,
   "metadata": {},
   "outputs": [
    {
     "name": "stdout",
     "output_type": "stream",
     "text": [
      "The change for the electric component of having a lifetime of 30 years is 45.12 %\n"
     ]
    }
   ],
   "source": [
    "avg_lifetime= 50\n",
    "lambda_rate6= 1/avg_lifetime\n",
    "\n",
    "time_interval= 30\n",
    "\n",
    "prob_lifetime30= stats.expon.cdf(time_interval, scale= 1/lambda_rate6).round(4)*100\n",
    "\n",
    "print(f'The change for the electric component of having a lifetime of 30 years is {prob_lifetime30} %')"
   ]
  }
 ],
 "metadata": {
  "kernelspec": {
   "display_name": "Python 3",
   "language": "python",
   "name": "python3"
  },
  "language_info": {
   "codemirror_mode": {
    "name": "ipython",
    "version": 3
   },
   "file_extension": ".py",
   "mimetype": "text/x-python",
   "name": "python",
   "nbconvert_exporter": "python",
   "pygments_lexer": "ipython3",
   "version": "3.11.7"
  }
 },
 "nbformat": 4,
 "nbformat_minor": 2
}
